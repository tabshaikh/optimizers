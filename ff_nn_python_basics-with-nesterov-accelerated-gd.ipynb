{
 "cells": [
  {
   "cell_type": "code",
   "execution_count": 1,
   "metadata": {},
   "outputs": [],
   "source": [
    "import pandas as pd\n",
    "import numpy as np\n",
    "%matplotlib inline"
   ]
  },
  {
   "cell_type": "code",
   "execution_count": 2,
   "metadata": {},
   "outputs": [],
   "source": [
    "data = pd.read_csv('dataset.csv')"
   ]
  },
  {
   "cell_type": "code",
   "execution_count": 3,
   "metadata": {
    "scrolled": false
   },
   "outputs": [],
   "source": [
    "# sigmoid neuron implementation with parameters w and b\n",
    "def sig(w,b,x):\n",
    "    return(1/(1 + np.exp(-(w*x + b))))"
   ]
  },
  {
   "cell_type": "code",
   "execution_count": 4,
   "metadata": {},
   "outputs": [],
   "source": [
    "def error(w,b):\n",
    "    err = 0.0\n",
    "    for rows in data.iterrows():\n",
    "        fx = sig(w,b,rows[1]['X'])\n",
    "        err += 0.5 * (rows[1]['Y']-fx) ** 2\n",
    "    return err"
   ]
  },
  {
   "cell_type": "code",
   "execution_count": 5,
   "metadata": {},
   "outputs": [],
   "source": [
    "def grad_b(w,b,x,y):\n",
    "    fx = sig(w,b,x)\n",
    "    return (fx - y)*fx*(1-fx)"
   ]
  },
  {
   "cell_type": "code",
   "execution_count": 6,
   "metadata": {},
   "outputs": [],
   "source": [
    "def grad_w(w,b,x,y):\n",
    "    fx = sig(w,b,x)\n",
    "    return (fx - y)*fx*(1-fx)*x"
   ]
  },
  {
   "cell_type": "code",
   "execution_count": 7,
   "metadata": {},
   "outputs": [],
   "source": [
    "def nesterov_accelerated_gradient_descent():\n",
    "    w,b,eta,max_epochs = 0,0,1,1000\n",
    "    update_w ,update_b,gamma = 0,0,0.8\n",
    "    for i in range(max_epochs):\n",
    "        dw, db = 0, 0\n",
    "        dw_lookahead = gamma*update_w\n",
    "        db_lookahead = gamma*update_b\n",
    "        for rows in data.iterrows():\n",
    "            dw = grad_w(w-dw_lookahead,b-db_lookahead,rows[1]['X'],rows[1]['Y'])\n",
    "            db = grad_b(w-dw_lookahead,b-db_lookahead,rows[1]['X'],rows[1]['Y']) \n",
    "        new_update_w = gamma*update_w + eta * dw\n",
    "        new_update_b = gamma*update_w + eta * db\n",
    "        w = w - new_update_w\n",
    "        b = b - new_update_b\n",
    "        update_b = new_update_b\n",
    "        update_w = new_update_w\n",
    "    print(\"Loss:\",error(w,b))\n",
    "    print(\"w:\",w)\n",
    "    print(\"b:\",b)"
   ]
  },
  {
   "cell_type": "code",
   "execution_count": 8,
   "metadata": {},
   "outputs": [
    {
     "name": "stdout",
     "output_type": "stream",
     "text": [
      "Loss: 0.030639577459347974\n",
      "w: 3.7499847928585917\n",
      "b: 3.124987327382099\n"
     ]
    }
   ],
   "source": [
    "nesterov_accelerated_gradient_descent()"
   ]
  }
 ],
 "metadata": {
  "kernelspec": {
   "display_name": "Python (fastai)",
   "language": "python",
   "name": "fastai"
  },
  "language_info": {
   "codemirror_mode": {
    "name": "ipython",
    "version": 3
   },
   "file_extension": ".py",
   "mimetype": "text/x-python",
   "name": "python",
   "nbconvert_exporter": "python",
   "pygments_lexer": "ipython3",
   "version": "3.6.4"
  }
 },
 "nbformat": 4,
 "nbformat_minor": 2
}
