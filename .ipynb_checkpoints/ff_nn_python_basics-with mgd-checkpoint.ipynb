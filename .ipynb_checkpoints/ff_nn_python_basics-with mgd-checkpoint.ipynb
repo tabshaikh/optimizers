{
 "cells": [
  {
   "cell_type": "code",
   "execution_count": 2,
   "metadata": {},
   "outputs": [],
   "source": [
    "#importing the required libraries \n",
    "import pandas as pd\n",
    "import numpy as np\n",
    "%matplotlib inline"
   ]
  },
  {
   "cell_type": "code",
   "execution_count": 3,
   "metadata": {},
   "outputs": [],
   "source": [
    "data = pd.read_csv('dataset.csv')"
   ]
  },
  {
   "cell_type": "code",
   "execution_count": 4,
   "metadata": {
    "scrolled": false
   },
   "outputs": [],
   "source": [
    "# sigmoid neuron implementation with parameters w and b\n",
    "def sig(w,b,x):\n",
    "    return(1/(1 + np.exp(-(w*x + b))))"
   ]
  },
  {
   "cell_type": "code",
   "execution_count": 6,
   "metadata": {},
   "outputs": [],
   "source": [
    "def error(w,b):\n",
    "    err = 0.0\n",
    "    for rows in data.iterrows():\n",
    "        fx = sig(w,b,rows[1]['X'])\n",
    "        err += 0.5 * (rows[1]['Y']-fx) ** 2\n",
    "    return err"
   ]
  },
  {
   "cell_type": "code",
   "execution_count": 9,
   "metadata": {},
   "outputs": [],
   "source": [
    "def grad_b(w,b,x,y):\n",
    "    fx = sig(w,b,x)\n",
    "    return (fx - y)*fx*(1-fx)"
   ]
  },
  {
   "cell_type": "code",
   "execution_count": 10,
   "metadata": {},
   "outputs": [],
   "source": [
    "def grad_w(w,b,x,y):\n",
    "    fx = sig(w,b,x)\n",
    "    return (fx - y)*fx*(1-fx)*x"
   ]
  },
  {
   "cell_type": "code",
   "execution_count": 11,
   "metadata": {},
   "outputs": [],
   "source": [
    "def momentum_gradient_descent():\n",
    "    w,b,eta,max_epochs = 1,1,0.100,1000\n",
    "    update_w ,update_b,gamma = 0,0,0.8\n",
    "    for i in range(max_epochs):\n",
    "        dw, db = 0, 0\n",
    "        for rows in data.iterrows():\n",
    "            dw = grad_w(w,b,rows[1]['X'],rows[1]['Y'])\n",
    "            db = grad_b(w,b,rows[1]['X'],rows[1]['Y'])\n",
    "        new_update_w = gamma*update_w + eta * dw\n",
    "        new_update_b = gamma*update_w + eta * db\n",
    "        w = w - update_w\n",
    "        b = b - update_b\n",
    "        update_b = new_update_b\n",
    "        update_w = new_update_w\n",
    "    print(\"Loss:\",error(w,b))"
   ]
  },
  {
   "cell_type": "code",
   "execution_count": 12,
   "metadata": {},
   "outputs": [
    {
     "name": "stdout",
     "output_type": "stream",
     "text": [
      "Loss: 0.062123684626600596\n"
     ]
    }
   ],
   "source": [
    "momentum_gradient_descent()"
   ]
  }
 ],
 "metadata": {
  "kernelspec": {
   "display_name": "Python (fastai)",
   "language": "python",
   "name": "fastai"
  },
  "language_info": {
   "codemirror_mode": {
    "name": "ipython",
    "version": 3
   },
   "file_extension": ".py",
   "mimetype": "text/x-python",
   "name": "python",
   "nbconvert_exporter": "python",
   "pygments_lexer": "ipython3",
   "version": "3.6.4"
  }
 },
 "nbformat": 4,
 "nbformat_minor": 2
}
