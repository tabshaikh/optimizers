{
 "cells": [
  {
   "cell_type": "code",
   "execution_count": 1,
   "metadata": {},
   "outputs": [],
   "source": [
    "#importing the required libraries\n",
    "import pandas as pd\n",
    "import numpy as np\n",
    "%matplotlib inline"
   ]
  },
  {
   "cell_type": "code",
   "execution_count": 2,
   "metadata": {},
   "outputs": [],
   "source": [
    "data = pd.read_csv('dataset.csv')"
   ]
  },
  {
   "cell_type": "code",
   "execution_count": 3,
   "metadata": {
    "scrolled": false
   },
   "outputs": [],
   "source": [
    "# sigmoid neuron implementation with parameters w and b\n",
    "def sig(w,b,x):\n",
    "    return(1/(1 + np.exp(-(w*x + b))))"
   ]
  },
  {
   "cell_type": "code",
   "execution_count": 4,
   "metadata": {},
   "outputs": [],
   "source": [
    "def error(w,b):\n",
    "    err = 0.0\n",
    "    for rows in data.iterrows():\n",
    "        fx = sig(w,b,rows[1]['X'])\n",
    "        err += 0.5 * (rows[1]['Y']-fx) ** 2\n",
    "    return err"
   ]
  },
  {
   "cell_type": "code",
   "execution_count": 5,
   "metadata": {},
   "outputs": [],
   "source": [
    "def grad_b(w,b,x,y):\n",
    "    fx = sig(w,b,x)\n",
    "    return (fx - y)*fx*(1-fx)"
   ]
  },
  {
   "cell_type": "code",
   "execution_count": 6,
   "metadata": {},
   "outputs": [],
   "source": [
    "def grad_w(w,b,x,y):\n",
    "    fx = sig(w,b,x)\n",
    "    return (fx - y)*fx*(1-fx)*x"
   ]
  },
  {
   "cell_type": "code",
   "execution_count": 7,
   "metadata": {},
   "outputs": [],
   "source": [
    "def rmsprop_gradient_descent(): #adaptive learning rates with parameter beta for converging the loss at minima\n",
    "    w,b,eta,max_epochs = 1,1,10,100\n",
    "    v_w = 0\n",
    "    v_b = 0\n",
    "    epsilon = 1e-8\n",
    "    beta = 0.95\n",
    "    for i in range(max_epochs):\n",
    "        dw, db = 0, 0\n",
    "        for rows in data.iterrows():\n",
    "            dw = grad_w(w,b,rows[1]['X'],rows[1]['Y'])\n",
    "            db = grad_b(w,b,rows[1]['X'],rows[1]['Y'])\n",
    "        v_w = beta*v_w + (1-beta)*dw*dw\n",
    "        v_b = beta*v_b + (1-beta)*db*db\n",
    "        w = w - (eta/(np.sqrt(v_w+epsilon)))* dw\n",
    "        b = b - (eta/(np.sqrt(v_b+epsilon))) * db\n",
    "    print(\"Loss:\",error(w,b))\n",
    "    print(\"w:\",w)\n",
    "    print(\"b:\",b)"
   ]
  },
  {
   "cell_type": "code",
   "execution_count": 8,
   "metadata": {},
   "outputs": [
    {
     "name": "stdout",
     "output_type": "stream",
     "text": [
      "Loss: 0.009660492487252403\n",
      "w: 1.5621642672095477\n",
      "b: 1.0936991587303442\n"
     ]
    }
   ],
   "source": [
    "rmsprop_gradient_descent()"
   ]
  }
 ],
 "metadata": {
  "kernelspec": {
   "display_name": "Python (fastai)",
   "language": "python",
   "name": "fastai"
  },
  "language_info": {
   "codemirror_mode": {
    "name": "ipython",
    "version": 3
   },
   "file_extension": ".py",
   "mimetype": "text/x-python",
   "name": "python",
   "nbconvert_exporter": "python",
   "pygments_lexer": "ipython3",
   "version": "3.6.4"
  }
 },
 "nbformat": 4,
 "nbformat_minor": 2
}
