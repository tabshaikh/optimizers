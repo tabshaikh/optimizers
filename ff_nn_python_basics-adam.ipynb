{
 "cells": [
  {
   "cell_type": "code",
   "execution_count": 1,
   "metadata": {},
   "outputs": [],
   "source": [
    "#importing the required libraries\n",
    "import pandas as pd\n",
    "import numpy as np\n",
    "import math\n",
    "%matplotlib inline"
   ]
  },
  {
   "cell_type": "code",
   "execution_count": 2,
   "metadata": {},
   "outputs": [],
   "source": [
    "data = pd.read_csv('dataset.csv')"
   ]
  },
  {
   "cell_type": "code",
   "execution_count": 3,
   "metadata": {
    "scrolled": false
   },
   "outputs": [],
   "source": [
    "# sigmoid neuron implementation with parameters w and b\n",
    "def sig(w,b,x):\n",
    "    return(1/(1 + np.exp(-(w*x + b))))"
   ]
  },
  {
   "cell_type": "code",
   "execution_count": 4,
   "metadata": {},
   "outputs": [],
   "source": [
    "def error(w,b):\n",
    "    err = 0.0\n",
    "    for rows in data.iterrows():\n",
    "        fx = sig(w,b,rows[1]['X'])\n",
    "        err += 0.5 * (rows[1]['Y']-fx) ** 2\n",
    "    return err"
   ]
  },
  {
   "cell_type": "code",
   "execution_count": 5,
   "metadata": {},
   "outputs": [],
   "source": [
    "def grad_b(w,b,x,y):\n",
    "    fx = sig(w,b,x)\n",
    "    return (fx - y)*fx*(1-fx)"
   ]
  },
  {
   "cell_type": "code",
   "execution_count": 6,
   "metadata": {},
   "outputs": [],
   "source": [
    "def grad_w(w,b,x,y):\n",
    "    fx = sig(w,b,x)\n",
    "    return (fx - y)*fx*(1-fx)*x"
   ]
  },
  {
   "cell_type": "code",
   "execution_count": 7,
   "metadata": {},
   "outputs": [],
   "source": [
    "def adam(): \n",
    "    w,b,eta,max_epochs = 1,1,0.01,100\n",
    "    v_w = 0\n",
    "    v_b = 0\n",
    "    epsilon = 1e-8\n",
    "    beta1,beta2 = 0.9,0.99\n",
    "    m_w,m_b,m_w_hat,m_b_hat = 0,0,0,0\n",
    "    for i in range(max_epochs):\n",
    "        dw, db = 0, 0\n",
    "        for rows in data.iterrows():\n",
    "            dw = grad_w(w,b,rows[1]['X'],rows[1]['Y'])\n",
    "            db = grad_b(w,b,rows[1]['X'],rows[1]['Y'])\n",
    "        \n",
    "        m_w = beta1*m_w +(1-beta1)*dw\n",
    "        m_b = beta1*m_b +(1-beta1)*db\n",
    "        m_w_hat = m_w / (1-math.pow(beta1,i+1))\n",
    "        m_b_hat = m_b / (1-math.pow(beta1,i+1))\n",
    "        \n",
    "        v_w = beta2*v_w + (1-beta2)*dw*dw\n",
    "        v_b = beta2*v_b + (1-beta2)*db*db   \n",
    "        v_w_hat = v_w / (1-math.pow(beta2,i+1))\n",
    "        v_b_hat = v_b / (1-math.pow(beta2,i+1))\n",
    "        \n",
    "        w = w - (eta/(np.sqrt(v_w_hat+epsilon)))* m_w_hat\n",
    "        b = b - (eta/(np.sqrt(v_b_hat+epsilon))) * m_b_hat\n",
    "    print(\"Loss:\",error(w,b))\n",
    "    print(\"w:\",w)\n",
    "    print(\"b:\",b)"
   ]
  },
  {
   "cell_type": "code",
   "execution_count": 8,
   "metadata": {},
   "outputs": [
    {
     "name": "stdout",
     "output_type": "stream",
     "text": [
      "Loss: 0.055400405369592766\n",
      "w: 1.0399646298767171\n",
      "b: 1.006666951447588\n"
     ]
    }
   ],
   "source": [
    "adam()"
   ]
  }
 ],
 "metadata": {
  "kernelspec": {
   "display_name": "Python (fastai)",
   "language": "python",
   "name": "fastai"
  },
  "language_info": {
   "codemirror_mode": {
    "name": "ipython",
    "version": 3
   },
   "file_extension": ".py",
   "mimetype": "text/x-python",
   "name": "python",
   "nbconvert_exporter": "python",
   "pygments_lexer": "ipython3",
   "version": "3.6.4"
  }
 },
 "nbformat": 4,
 "nbformat_minor": 2
}
